{
 "cells": [
  {
   "cell_type": "code",
   "execution_count": 21,
   "metadata": {},
   "outputs": [
    {
     "name": "stdout",
     "output_type": "stream",
     "text": [
      "[2, 4, 6, 8, 10, 12, 14, 16, 18, 20, 22, 24, 26, 28, 30, 32, 34, 36, 38, 40, 42, 44, 46, 48, 50, 52, 54, 56, 58, 60, 62, 64, 66, 68, 70, 72, 74, 76, 78, 80, 82, 84, 86, 88, 90, 92, 94, 96, 98]\n"
     ]
    }
   ],
   "source": [
    "even_numbers = [x for x in range(1, 100) if x % 2 == 0]\n",
    "print(even_numbers)\n"
   ]
  },
  {
   "cell_type": "code",
   "execution_count": 22,
   "metadata": {},
   "outputs": [
    {
     "ename": "NameError",
     "evalue": "name 'data' is not defined",
     "output_type": "error",
     "traceback": [
      "\u001b[0;31m---------------------------------------------------------------------------\u001b[0m",
      "\u001b[0;31mNameError\u001b[0m                                 Traceback (most recent call last)",
      "\u001b[1;32m/Users/nkemakolamnnadi/Documents/Lydia/analysis/myfirstdemo.ipynb Cell 2\u001b[0m line \u001b[0;36m<cell line: 2>\u001b[0;34m()\u001b[0m\n\u001b[1;32m      <a href='vscode-notebook-cell:/Users/nkemakolamnnadi/Documents/Lydia/analysis/myfirstdemo.ipynb#W1sZmlsZQ%3D%3D?line=0'>1</a>\u001b[0m grade \u001b[39m=\u001b[39m [\u001b[39m2\u001b[39m, \u001b[39m4\u001b[39m, \u001b[39m6\u001b[39m, \u001b[39m8\u001b[39m, \u001b[39m10\u001b[39m, \u001b[39m12\u001b[39m, \u001b[39m14\u001b[39m, \u001b[39m16\u001b[39m, \u001b[39m18\u001b[39m, \u001b[39m20\u001b[39m, \u001b[39m22\u001b[39m, \u001b[39m24\u001b[39m, \u001b[39m26\u001b[39m, \u001b[39m28\u001b[39m, \u001b[39m30\u001b[39m, \u001b[39m32\u001b[39m, \u001b[39m34\u001b[39m, \u001b[39m36\u001b[39m, \u001b[39m38\u001b[39m, \u001b[39m40\u001b[39m, \u001b[39m42\u001b[39m, \u001b[39m44\u001b[39m, \u001b[39m46\u001b[39m, \u001b[39m48\u001b[39m, \u001b[39m50\u001b[39m, \u001b[39m52\u001b[39m, \u001b[39m54\u001b[39m, \u001b[39m56\u001b[39m, \u001b[39m58\u001b[39m, \u001b[39m60\u001b[39m, \u001b[39m62\u001b[39m, \u001b[39m64\u001b[39m, \u001b[39m66\u001b[39m, \u001b[39m68\u001b[39m, \u001b[39m70\u001b[39m, \u001b[39m72\u001b[39m, \u001b[39m74\u001b[39m, \u001b[39m76\u001b[39m, \u001b[39m78\u001b[39m, \u001b[39m80\u001b[39m, \u001b[39m82\u001b[39m, \u001b[39m84\u001b[39m, \u001b[39m86\u001b[39m, \u001b[39m88\u001b[39m, \u001b[39m90\u001b[39m, \u001b[39m92\u001b[39m, \u001b[39m94\u001b[39m, \u001b[39m96\u001b[39m, \u001b[39m98\u001b[39m]\n\u001b[0;32m----> <a href='vscode-notebook-cell:/Users/nkemakolamnnadi/Documents/Lydia/analysis/myfirstdemo.ipynb#W1sZmlsZQ%3D%3D?line=1'>2</a>\u001b[0m \u001b[39mprint\u001b[39m(data \u001b[39m*\u001b[39m \u001b[39m2\u001b[39m)\n",
      "\u001b[0;31mNameError\u001b[0m: name 'data' is not defined"
     ]
    }
   ],
   "source": [
    "grade = [2, 4, 6, 8, 10, 12, 14, 16, 18, 20, 22, 24, 26, 28, 30, 32, 34, 36, 38, 40, 42, 44, 46, 48, 50, 52, 54, 56, 58, 60, 62, 64, 66, 68, 70, 72, 74, 76, 78, 80, 82, 84, 86, 88, 90, 92, 94, 96, 98]\n",
    "print(data * 2)"
   ]
  },
  {
   "cell_type": "code",
   "execution_count": null,
   "metadata": {},
   "outputs": [
    {
     "ename": "NameError",
     "evalue": "name 'data' is not defined",
     "output_type": "error",
     "traceback": [
      "\u001b[0;31m---------------------------------------------------------------------------\u001b[0m",
      "\u001b[0;31mNameError\u001b[0m                                 Traceback (most recent call last)",
      "\u001b[1;32m/Users/nkemakolamnnadi/Documents/Lydia/analysis/myfirstdemo.ipynb Cell 3\u001b[0m line \u001b[0;36m<cell line: 2>\u001b[0;34m()\u001b[0m\n\u001b[1;32m      <a href='vscode-notebook-cell:/Users/nkemakolamnnadi/Documents/Lydia/analysis/myfirstdemo.ipynb#W2sZmlsZQ%3D%3D?line=0'>1</a>\u001b[0m \u001b[39mimport\u001b[39;00m \u001b[39mnumpy\u001b[39;00m \u001b[39mas\u001b[39;00m \u001b[39mnp\u001b[39;00m\n\u001b[0;32m----> <a href='vscode-notebook-cell:/Users/nkemakolamnnadi/Documents/Lydia/analysis/myfirstdemo.ipynb#W2sZmlsZQ%3D%3D?line=1'>2</a>\u001b[0m grade \u001b[39m=\u001b[39m np\u001b[39m.\u001b[39marray(data)\n\u001b[1;32m      <a href='vscode-notebook-cell:/Users/nkemakolamnnadi/Documents/Lydia/analysis/myfirstdemo.ipynb#W2sZmlsZQ%3D%3D?line=2'>3</a>\u001b[0m \u001b[39mprint\u001b[39m(grade \u001b[39m*\u001b[39m \u001b[39m2\u001b[39m)\n",
      "\u001b[0;31mNameError\u001b[0m: name 'data' is not defined"
     ]
    }
   ],
   "source": [
    "import numpy as np\n",
    "grade = np.array(data)\n",
    "print(grade * 2)"
   ]
  },
  {
   "cell_type": "code",
   "execution_count": null,
   "metadata": {},
   "outputs": [
    {
     "ename": "AttributeError",
     "evalue": "'list' object has no attribute 'shape'",
     "output_type": "error",
     "traceback": [
      "\u001b[0;31m---------------------------------------------------------------------------\u001b[0m",
      "\u001b[0;31mAttributeError\u001b[0m                            Traceback (most recent call last)",
      "\u001b[1;32m/Users/nkemakolamnnadi/Documents/Lydia/analysis/myfirstdemo.ipynb Cell 4\u001b[0m line \u001b[0;36m<cell line: 1>\u001b[0;34m()\u001b[0m\n\u001b[0;32m----> <a href='vscode-notebook-cell:/Users/nkemakolamnnadi/Documents/Lydia/analysis/myfirstdemo.ipynb#W3sZmlsZQ%3D%3D?line=0'>1</a>\u001b[0m grade\u001b[39m.\u001b[39;49mshape\n",
      "\u001b[0;31mAttributeError\u001b[0m: 'list' object has no attribute 'shape'"
     ]
    }
   ],
   "source": [
    "grade.shape"
   ]
  },
  {
   "cell_type": "code",
   "execution_count": null,
   "metadata": {},
   "outputs": [
    {
     "data": {
      "text/plain": [
       "50.0"
      ]
     },
     "execution_count": 39,
     "metadata": {},
     "output_type": "execute_result"
    }
   ],
   "source": [
    "#data[8]\n",
    "grade[5]\n",
    "grade.mean()"
   ]
  },
  {
   "cell_type": "code",
   "execution_count": null,
   "metadata": {},
   "outputs": [
    {
     "name": "stdout",
     "output_type": "stream",
     "text": [
      "[45, 57, 12, 69, 20, 76, 92, 46, 81, 68, 48, 96, 80, 31, 88, 42, 23, 40, 66, 74, 51, 63, 97, 25, 8, 5, 11, 6, 4, 54, 87, 49, 38, 89, 91, 72, 83, 82, 37, 1, 86, 34, 71, 24, 95, 84, 100, 19, 65, 94, 28, 30, 32, 22, 67, 26, 85, 9, 98, 93, 3, 61, 33, 56, 77, 60, 90, 13, 53, 52, 27, 35, 47, 44, 2, 58, 70, 75, 39, 7, 41, 73, 10, 99, 36, 18, 29, 55, 64, 50, 59, 16, 43, 78, 17, 62, 21, 15, 79, 14]\n"
     ]
    }
   ],
   "source": [
    "import random\n",
    "\n",
    "random_numbers = random.sample(range(1, 101), 100)\n",
    "print(random_numbers)\n"
   ]
  },
  {
   "cell_type": "code",
   "execution_count": null,
   "metadata": {},
   "outputs": [],
   "source": [
    "study_time = [45 ,57, 12, 69, 20, 76, 92, 46, 81, 68, 48, 96, 80, 31, 88, 42, 23, 40, 66, 74, 51, 63, 97, 25, 8, 5, 11, 6, 4, 54, 87, 49, 38, 89, 91, 72, 83, 82, 37, 1, 86, 34, 71, 24, 95, 84, 100, 19, 65, 94, 28, 30, 32, 22, 67, 26, 85, 9, 98, 93, 3, 61, 33, 56, 77, 60, 90, 13, 53, 52, 27, 35, 47, 44, 2, 58, 70, 75, 39, 7, 41, 73, 10, 99, 36, 18, 29, 55, 64, 50, 59, 16, 43, 78, 17, 62, 21, 15, 79, 14]\n",
    "\n"
   ]
  },
  {
   "cell_type": "code",
   "execution_count": null,
   "metadata": {},
   "outputs": [],
   "source": [
    "import numpy as np\n",
    "\n",
    "student_data = np.array([study_time, grade], dtype=object)\n",
    "\n"
   ]
  },
  {
   "cell_type": "code",
   "execution_count": null,
   "metadata": {},
   "outputs": [
    {
     "data": {
      "text/plain": [
       "45"
      ]
     },
     "execution_count": 99,
     "metadata": {},
     "output_type": "execute_result"
    }
   ],
   "source": [
    "student_data[0][0]"
   ]
  },
  {
   "cell_type": "code",
   "execution_count": null,
   "metadata": {},
   "outputs": [],
   "source": [
    "import pandas as pd \n"
   ]
  }
 ],
 "metadata": {
  "kernelspec": {
   "display_name": "Python 3",
   "language": "python",
   "name": "python3"
  },
  "language_info": {
   "codemirror_mode": {
    "name": "ipython",
    "version": 3
   },
   "file_extension": ".py",
   "mimetype": "text/x-python",
   "name": "python",
   "nbconvert_exporter": "python",
   "pygments_lexer": "ipython3",
   "version": "3.9.10"
  }
 },
 "nbformat": 4,
 "nbformat_minor": 2
}
